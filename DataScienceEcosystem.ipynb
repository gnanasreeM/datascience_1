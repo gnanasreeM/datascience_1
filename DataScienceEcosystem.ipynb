{
 "cells": [
  {
   "cell_type": "markdown",
   "id": "27c20122-44de-4bd2-bdc2-b08d1df530fe",
   "metadata": {},
   "source": [
    "# Data Science Tools and Ecosystem"
   ]
  },
  {
   "cell_type": "markdown",
   "id": "d83f6cf7-0755-4dc1-86ca-447c960fa862",
   "metadata": {},
   "source": [
    "In this notebook, Data Science Tools and Ecosystem are summarized."
   ]
  },
  {
   "cell_type": "markdown",
   "id": "b8284764-9572-4a42-aa4e-79a9c3739d75",
   "metadata": {},
   "source": [
    "Some of the popular languages that Data Scientists use are:\n",
    "1. Python\n",
    "2. R\n",
    "3. SQL\n",
    "4. Julia\n",
    "5. Scala"
   ]
  },
  {
   "cell_type": "markdown",
   "id": "2765c826-b2b5-432a-b746-71c793878847",
   "metadata": {},
   "source": [
    "Commonly used libraries by Data Scientists include:\n",
    "1. Numpy\n",
    "2. Pandas\n",
    "3. scikit-learn\n",
    "4. matplotlib\n",
    "5. seaborn\n",
    "6. tensorflow"
   ]
  },
  {
   "cell_type": "markdown",
   "id": "c0ead410-7b9e-4ffd-9ed8-0e1bc2e92a24",
   "metadata": {},
   "source": [
    "| Data Science Tools |\n",
    "|---------------------|\n",
    "| Jupyter Notebook    |\n",
    "| RStudio             |\n",
    "| VS Code             |\n"
   ]
  },
  {
   "cell_type": "markdown",
   "id": "dae8770e-fa23-4735-b44e-4240e0db2fea",
   "metadata": {},
   "source": [
    "### Below are a few examples of evaluating arithmetic expressions in Python"
   ]
  },
  {
   "cell_type": "code",
   "execution_count": 1,
   "id": "07fa2b07-6887-4441-bfed-bda3ba2af832",
   "metadata": {},
   "outputs": [
    {
     "data": {
      "text/plain": [
       "17"
      ]
     },
     "execution_count": 1,
     "metadata": {},
     "output_type": "execute_result"
    }
   ],
   "source": [
    "(3*4)+5#This is a simple arithmetic expression to multiply then add integer"
   ]
  },
  {
   "cell_type": "code",
   "execution_count": 3,
   "id": "3479bafc-347d-4f23-90ad-5ca97b09f1b8",
   "metadata": {},
   "outputs": [
    {
     "name": "stdout",
     "output_type": "stream",
     "text": [
      "3.3333333333333335\n"
     ]
    }
   ],
   "source": [
    "mins=200\n",
    "hrs=mins/60#This will convert 200 mins to hours by dividing by 60\n",
    "print(hrs)"
   ]
  },
  {
   "cell_type": "markdown",
   "id": "cd5057a3-2c2a-48a8-b6b2-360e0ed4fc7a",
   "metadata": {},
   "source": [
    "**Objectives:**\n",
    "\n",
    "- List popular languages for Data Science.\n",
    "- Commonly used libraries by Data Scientists.\n",
    "- Provide examples of open-source tools used in data science development environments.\n"
   ]
  },
  {
   "cell_type": "code",
   "execution_count": null,
   "id": "e2352f66-f321-4692-ad3d-66235bfafad3",
   "metadata": {},
   "outputs": [],
   "source": [
    "##"
   ]
  }
 ],
 "metadata": {
  "kernelspec": {
   "display_name": "Python 3 (ipykernel)",
   "language": "python",
   "name": "python3"
  },
  "language_info": {
   "codemirror_mode": {
    "name": "ipython",
    "version": 3
   },
   "file_extension": ".py",
   "mimetype": "text/x-python",
   "name": "python",
   "nbconvert_exporter": "python",
   "pygments_lexer": "ipython3",
   "version": "3.9.13"
  }
 },
 "nbformat": 4,
 "nbformat_minor": 5
}
